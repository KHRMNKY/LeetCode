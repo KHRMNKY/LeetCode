{
  "cells": [
    {
      "cell_type": "markdown",
      "metadata": {
        "id": "view-in-github",
        "colab_type": "text"
      },
      "source": [
        "<a href=\"https://colab.research.google.com/github/kahramankaya/LeetCode/blob/main/Fizz_Buzz.ipynb\" target=\"_parent\"><img src=\"https://colab.research.google.com/assets/colab-badge.svg\" alt=\"Open In Colab\"/></a>"
      ]
    },
    {
      "cell_type": "markdown",
      "source": [
        "url: https://leetcode.com/problems/fizz-buzz/"
      ],
      "metadata": {
        "id": "Ig5noDFVMaY2"
      }
    },
    {
      "cell_type": "code",
      "source": [
        "class Solution(object):\n",
        "    def fizzBuzz(self, n):\n",
        "        \"\"\"\n",
        "        :type n: int\n",
        "        :rtype: List[str]\n",
        "        \"\"\"\n",
        "        list=[]\n",
        "        for m in range(1,n+1):\n",
        "            if m%3==0 and m%5!=0:\n",
        "                list.append(\"Fizz\")\n",
        "            elif m%3!=0 and m%5==0:\n",
        "                list.append(\"Buzz\")\n",
        "            elif m%3==0 and m%5==0:\n",
        "                list.append(\"FizzBuzz\")\n",
        "            else:\n",
        "                list.append(str(m))\n",
        "        return list\n"
      ],
      "metadata": {
        "id": "4cBpzJItLYlC"
      },
      "execution_count": null,
      "outputs": []
    },
    {
      "cell_type": "code",
      "source": [],
      "metadata": {
        "id": "uGNXJWMBLYiN"
      },
      "execution_count": null,
      "outputs": []
    },
    {
      "cell_type": "code",
      "source": [],
      "metadata": {
        "id": "ZPMzPrZ0LYbm"
      },
      "execution_count": null,
      "outputs": []
    }
  ],
  "metadata": {
    "colab": {
      "name": "Colaboratory'ye Hoş Geldiniz",
      "toc_visible": true,
      "provenance": [],
      "include_colab_link": true
    },
    "kernelspec": {
      "display_name": "Python 3",
      "name": "python3"
    }
  },
  "nbformat": 4,
  "nbformat_minor": 0
}