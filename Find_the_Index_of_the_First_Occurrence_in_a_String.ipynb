{
  "nbformat": 4,
  "nbformat_minor": 0,
  "metadata": {
    "colab": {
      "provenance": [],
      "authorship_tag": "ABX9TyNYxBIS7hz5G9E6o4mls1Gp",
      "include_colab_link": true
    },
    "kernelspec": {
      "name": "python3",
      "display_name": "Python 3"
    },
    "language_info": {
      "name": "python"
    }
  },
  "cells": [
    {
      "cell_type": "markdown",
      "metadata": {
        "id": "view-in-github",
        "colab_type": "text"
      },
      "source": [
        "<a href=\"https://colab.research.google.com/github/kahramankaya/Codewars_LeetCode/blob/main/Find_the_Index_of_the_First_Occurrence_in_a_String.ipynb\" target=\"_parent\"><img src=\"https://colab.research.google.com/assets/colab-badge.svg\" alt=\"Open In Colab\"/></a>"
      ]
    },
    {
      "cell_type": "markdown",
      "source": [
        "url: https://leetcode.com/problems/find-the-index-of-the-first-occurrence-in-a-string/\n"
      ],
      "metadata": {
        "id": "KhOprxcyyEqf"
      }
    },
    {
      "cell_type": "code",
      "execution_count": null,
      "metadata": {
        "id": "WME5Yza7xohG"
      },
      "outputs": [],
      "source": [
        "haystack=\"subbutsad\"\n",
        "needle=\"but\"\n",
        "def strStr(haystack, needle):\n",
        "\n",
        "    liste=[m for m in haystack]\n",
        "    liste2=[k for k in needle]\n",
        "    i=-1\n",
        "    for n in liste:\n",
        "      i=i+1\n",
        "      while True:\n",
        "        if liste[i:len(needle)+i]==needle:\n",
        "            print(\"00---\")\n",
        "            return 0\n",
        "        elif liste[i:len(needle)+i]!=needle:\n",
        "            pass\n",
        "      return -1\n",
        "\n",
        "strStr(haystack, needle)"
      ]
    }
  ]
}